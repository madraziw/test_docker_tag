{
  "cells": [
    {
      "cell_type": "markdown",
      "metadata": {
        "deletable": true,
        "editable": true
      },
      "source": [
        "Exploratory data analysis on IPL statistics\n-------------------------------------------\n"
      ]
    },
    {
      "cell_type": "markdown",
      "metadata": {
        "deletable": true,
        "editable": true
      },
      "source": [
        "Being a ardent cricket fan and a data science enthusiast this dataset is virtual gold! Been tinkering with this dataset for 2 days now, found some really cool insights.\n"
      ]
    },
    {
      "cell_type": "code",
      "execution_count": 1,
      "metadata": {
        "collapsed": false,
        "deletable": true,
        "editable": true
      },
      "outputs": [],
      "source": [
        "# This R environment comes with all of CRAN preinstalled, as well as many other helpful packages\n",
        "# The environment is defined by the kaggle/rstats docker image: https://github.com/kaggle/docker-rstats\n",
        "# For example, here's several helpful packages to load in \n",
        "\n",
        "library(ggplot2) # Data visualization\n",
        "library(readr) # CSV file I/O, e.g. the read_csv function\n",
        "#library(plyr)\n",
        "library(dplyr)\n",
        "library(gridExtra)\n",
        "library(treemap)\n",
        "library(RColorBrewer)\n",
        "library(tidyr)\n",
        "library(radarchart)\n",
        "# Input data files are available in the \"../input/\" directory.\n",
        "# For example, running this (by clicking run or pressing Shift+Enter) will list the files in the input directory\n",
        "\n",
        "system(\"ls ../input\")\n",
        "deliveries<-read.csv(\"../input/deliveries.csv\")\n",
        "matches<-read.csv(\"../input/matches.csv\")\n",
        "matches<-matches[matches$result==\"normal\",]\n",
        "# Any results you write to the current directory are saved as output.\n"
      ]
    },
    {
      "cell_type": "markdown",
      "metadata": {
        "deletable": true,
        "editable": true
      },
      "source": [
        "Cricket is a simple game you win or you lose but there is a lot of grey area as well. It is a battle of nerves as much as it is test of skill. Lot of games in IPL go down to the wire, let us see which teams have been able to withstand pressure and win the close games!\n\n\n**Closeness of the matches when the team batting first wins**\n-------------------------------------------------------------\n"
      ]
    },
    {
      "cell_type": "code",
      "execution_count": 1,
      "metadata": {
        "collapsed": false,
        "deletable": true,
        "editable": true
      },
      "outputs": [],
      "source": [
        "matches[which(as.character(matches$team2)==as.character(matches$winner)),\"loser\"]<- matches[which(as.character(matches$team2)==as.character(matches$winner)),\"team1\"]\n",
        "matches[which(as.character(matches$team1)==as.character(matches$winner)),\"loser\"]<- matches[which(as.character(matches$team1)==as.character(matches$winner)),\"team2\"]\n",
        "\n",
        "\n",
        "matches1<-matches[matches$win_by_runs!=0,]\n",
        "closeness<-function(x,y = \"gold\" ){\n",
        "  data1<-matches1[matches1$winner==x|matches1$loser==x,]\n",
        "  data1[data1$loser==x,\"win_by_runs\"]<- -data1[data1$loser==x,\"win_by_runs\"]\n",
        "  ggplot(data1,aes(1:nrow(data1),win_by_runs))+ geom_area(fill=y)+ggtitle(x)+\n",
        "    ylab(\"Runs\")+ xlab(\"Matches\")+ geom_ribbon(aes(ymin=-5, ymax=5),fill=\"red\",alpha=0.4) +geom_ribbon(aes(ymin=-15, ymax=15),fill=\"red\",alpha=0.1) +\n",
        "    guides(fill=FALSE)+scale_alpha(guide = 'none')+coord_cartesian(ylim = c(-100, 100)) \n",
        "\n",
        "a<-closeness(\"Chennai Super Kings\")\n",
        "b<-closeness(\"Kolkata Knight Riders\",\"purple\")\n",
        "c<-closeness(\"Sunrisers Hyderabad\",\"orange\")\n",
        "d<-closeness(\"Mumbai Indians\",\"blue2\")\n",
        "e<-closeness(\"Royal Challengers Bangalore\",\"red3\")\n",
        "f<-closeness(\"Delhi Daredevils\",\"firebrick3\")\n",
        "g<-closeness(\"Rajasthan Royals\",\"blueviolet\")\n",
        "h<-closeness(\"Kings XI Punjab\",\"salmon\")\n",
        "grid.arrange(a,b,c,e,d,f,g,h,ncol=2)\n"
      ]
    },
    {
      "cell_type": "markdown",
      "metadata": {
        "deletable": true,
        "editable": true
      },
      "source": [
        "\n\nNumber of matches played in different cities\n--------------------------------------------\n"
      ]
    },
    {
      "cell_type": "code",
      "execution_count": 1,
      "metadata": {
        "collapsed": false,
        "deletable": true,
        "editable": true
      },
      "outputs": [],
      "source": [
        "\n",
        "ggplot(matches[which(!is.na(matches$city)),],aes(city,fill= city,rm.na=T)) +geom_bar() +\n",
        "theme(axis.text.x = element_text(angle = 90, hjust = 1))+ \n",
        "ylab(\"Number of Matches Played\") +\n",
        "guides(fill=FALSE)\n"
      ]
    },
    {
      "cell_type": "markdown",
      "metadata": {
        "deletable": true,
        "editable": true
      },
      "source": [
        "Number of matches played in different stadiums\n----------------------------------------------\n"
      ]
    },
    {
      "cell_type": "code",
      "execution_count": 1,
      "metadata": {
        "collapsed": false,
        "deletable": true,
        "editable": true
      },
      "outputs": [],
      "source": [
        "\n",
        "ggplot(matches,aes(venue, rm.na=T)) +geom_bar(fill=\"#0072B2\") +\n",
        "theme(axis.text.x = element_text(angle = 90, hjust = 1))+ \n",
        "ylab(\"Number of Matches Played\") \n"
      ]
    },
    {
      "cell_type": "markdown",
      "metadata": {
        "deletable": true,
        "editable": true
      },
      "source": [
        "Is winning the toss really an advantage?\n----------------------------------------\n"
      ]
    },
    {
      "cell_type": "code",
      "execution_count": 1,
      "metadata": {
        "collapsed": false,
        "deletable": true,
        "editable": true
      },
      "outputs": [],
      "source": [
        "matches$toss_match<-ifelse(as.character(matches$toss_winner)==as.character(matches$winner),\"Won\",\"Lost\")\n",
        "ggplot(matches[which(!is.na(matches$toss_match)),],aes(toss_match, fill = toss_match))+ \n",
        "geom_bar()+ xlab(\"Toss\") +ylab(\"Number of matches won\")+ ggtitle(\"How much of a advantage is winning the toss\")\n"
      ]
    },
    {
      "cell_type": "markdown",
      "metadata": {
        "deletable": true,
        "editable": true
      },
      "source": [
        "Is home advantage a real thing in IPL?\n----------------------\n"
      ]
    },
    {
      "cell_type": "code",
      "execution_count": 1,
      "metadata": {
        "collapsed": false,
        "deletable": true,
        "editable": true
      },
      "outputs": [],
      "source": [
        "Data<-matches[matches$season!=\"2009\",]\n",
        "Data$date<- as.Date(Data$date)\n",
        "Data1<-Data[Data$date < as.Date(\"2014-04-16\") | Data$date > as.Date(\"2014-04-30\"),]\n",
        "Data1$home_team[Data1$city==\"Bangalore\"]<- \"Royal Challengers Bangalore\"\n",
        "Data1$home_team[Data1$city==\"Chennai\"]<- \"Chennai Super Kings\"\n",
        "Data1$home_team[Data1$city==\"Delhi\"]<- \"Delhi Daredevils\"\n",
        "Data1$home_team[Data1$city==\"Chandigarh\"]<- \"Kings XI Punjab\"\n",
        "Data1$home_team[Data1$city==\"Jaipur\"]<- \"Rajasthan Royals\"\n",
        "Data1$home_team[Data1$city==\"Mumbai\"]<- \"Mumbai Indians\"\n",
        "Data1$home_team[Data1$city==\"Kolkata\"]<- \"Kolkata Knight Riders\"\n",
        "Data1$home_team[Data1$city==\"Kochi\"]<- \"Kochi Tuskers Kerala\"\n",
        "Data1$home_team[Data1$city==\"Hyderabad\" & Data1$season <=2012]<- \"Deccan Chargers\"\n",
        "Data1$home_team[Data1$city==\"Hyderabad\" & Data1$season >2012]<- \"Sunrisers Hyderabad\"\n",
        "Data1$home_team[Data1$city==\"Ahmedabad\"]<- \"Rajasthan Royals\"\n",
        "Data1$home_team[Data1$city==\"Dharamsala\"]<- \"Kings XI Punjab\"\n",
        "Data1$home_team[Data1$city==\"Visakhapatnam\" & Data1$season== 2015]<- \"Sunrisers Hyderabad\"\n",
        "Data1$home_team[Data1$city==\"Ranchi\" & Data1$season== 2013]<- \"Kolkata Knight Riders\"\n",
        "Data1$home_team[Data1$city==\"Ranchi\" & Data1$season > 2013]<- \"Chennai Super Kings\"\n",
        "Data1$home_team[Data1$city==\"Rajkot\" ]<- \"Gujarat Lions\"\n",
        "Data1$home_team[Data1$city==\"Kanpur\" ]<- \"Gujarat Lions\"\n",
        "Data1$home_team[Data1$city==\"Raipur\" ]<- \"Delhi Daredevils\"\n",
        "Data1$home_team[Data1$city==\"Nagpur\" ]<- \"Deccan Chargers\"\n",
        "Data1$home_team[Data1$city==\"Indore\" ]<- \"Kochi Tuskers Kerala\"\n",
        "Data1$home_team[Data1$city==\"Pune\" & Data1$season!= 2016]<- \"Pune Warriors\"\n",
        "Data1$home_team[Data1$city==\"Pune\" & Data1$season== 2016]<- \"Rising Pune Supergiants\"\n",
        "Data1<-Data1[ which(!is.na(Data1$home_team)),]\n",
        "Data1$win_host <- ifelse(as.character(Data1$winner)==as.character(Data1$home_team),\"Home\",\"Away\")\n",
        "\n",
        "ggplot(Data1[which(!is.na(Data1$win_host)),],aes(win_host,fill= win_host))+geom_bar()+\n",
        "  ggtitle(\"Is home advantage a real thing in IPL?\")+\n",
        "  xlab(\"Team\")+\n",
        "  ylab(\"Number of Matches won\")+labs(aesthetic=\"Winner\")   \n"
      ]
    },
    {
      "cell_type": "markdown",
      "metadata": {
        "deletable": true,
        "editable": true
      },
      "source": [
        "Number of matches played by each team\n-------------------------------------\n"
      ]
    },
    {
      "cell_type": "code",
      "execution_count": 1,
      "metadata": {
        "collapsed": false,
        "deletable": true,
        "editable": true
      },
      "outputs": [],
      "source": [
        "ggplot(as.data.frame(table(matches$team2) + table(matches$team1)),aes(reorder(Var1,-Freq),Freq,fill = Var1)) +geom_bar(stat = \"identity\")+\n",
        "  theme(axis.text.x = element_text(angle = 90, hjust = 1))+ xlab(\"Player\")+\n",
        "  ylab(\"Number of Matches\") +guides(fill=FALSE)\n"
      ]
    },
    {
      "cell_type": "markdown",
      "metadata": {
        "deletable": true,
        "editable": true
      },
      "source": [
        "Number of Matches won by each teams\n-----------------------------------\n"
      ]
    },
    {
      "cell_type": "code",
      "execution_count": 1,
      "metadata": {
        "collapsed": false,
        "deletable": true,
        "editable": true
      },
      "outputs": [],
      "source": [
        "ggplot(matches,aes(winner)) +geom_bar(fill=\"#0072B2\") +\n",
        "theme(axis.text.x = element_text(angle = 90, hjust = 1))+ xlab(\"Team\")+\n",
        "ylab(\"Matches won\") \n"
      ]
    },
    {
      "cell_type": "markdown",
      "metadata": {
        "deletable": true,
        "editable": true
      },
      "source": [
        "Win percentage of each team in IPL\n----------------------------------\n"
      ]
    },
    {
      "cell_type": "code",
      "execution_count": 1,
      "metadata": {
        "collapsed": false,
        "deletable": true,
        "editable": true
      },
      "outputs": [],
      "source": [
        "matches_won<-as.data.frame(table(matches$winner))\n",
        "colnames(matches_won)[2]<-\"Won\"\n",
        "matches_played<-as.data.frame(table(matches$team2) + table(matches$team1))\n",
        "colnames(matches_played)[2]<-\"Played\"\n",
        "\n",
        "ggplot(left_join(matches_played,matches_won ),aes(reorder(Var1,-Won/Played),Won*100/Played,fill = Var1)) +geom_bar(stat = \"identity\")+\n",
        "  theme(axis.text.x = element_text(angle = 90, hjust = 1))+ xlab(\"Team\")+\n",
        "  ylab(\"Win Percentage\") +  guides(fill=FALSE)+coord_cartesian(ylim = c(0, 100)) \n"
      ]
    },
    {
      "cell_type": "markdown",
      "metadata": {
        "deletable": true,
        "editable": true
      },
      "source": [
        "Margin of victories in IPL\n--------------------------\n"
      ]
    },
    {
      "cell_type": "code",
      "execution_count": 1,
      "metadata": {
        "collapsed": false,
        "deletable": true,
        "editable": true
      },
      "outputs": [],
      "source": [
        "  ggplot(matches[matches$win_by_runs!=0,],aes(id,win_by_runs,col= winner )) + geom_point() +\n",
        "  ylab(\"Runs won by \") + xlab(\"Matches won by team batting first\")+\n",
        "  ggtitle(\"Margin of Victories(Won by team batting first)\")+ \n",
        "  scale_y_continuous(breaks=c(0,25,50,75,100))+\n",
        "  geom_hline(yintercept = mean(matches[matches$win_by_runs!=0,]$win_by_runs),col=\"blue\")\n",
        "  \n",
        "ggplot(matches[matches$win_by_wickets!=0,],aes(id,win_by_wickets,col= winner )) + geom_point() +\n",
        "  ylab(\"Wickets won by \") + xlab(\"Matches won by team bowling first\")+\n",
        "  ggtitle(\"Margin of Victories(Won by team bowling first)\")+\n",
        "  scale_y_continuous(breaks=c(2,4,6,8,10))+\n",
        "  geom_hline(yintercept = mean(matches[matches$win_by_wickets!=0,]$win_by_wickets),col=\"blue\")\n"
      ]
    },
    {
      "cell_type": "markdown",
      "metadata": {
        "deletable": true,
        "editable": true
      },
      "source": [
        "Top Batsmen\n-----------\n"
      ]
    },
    {
      "cell_type": "code",
      "execution_count": 1,
      "metadata": {
        "collapsed": false,
        "deletable": true,
        "editable": true
      },
      "outputs": [],
      "source": [
        " df<- deliveries %>% group_by(batsman)%>% summarise(runs=sum(batsman_runs)) %>% arrange(desc(runs)) %>%\n",
        "  filter(runs > 3000) \n",
        "  df %>% ggplot(aes(reorder(batsman,-runs),runs,fill=batsman)) +geom_bar(stat = \"identity\") +xlab(\"Batsman\")+ ylab(\"Runs\")+\n",
        "  theme(axis.text.x = element_text(angle = 90, hjust = 1))+ xlab(\"Player\")+ ggtitle(\"Top Batsmen\")+ guides(fill=F)\n"
      ]
    },
    {
      "cell_type": "markdown",
      "metadata": {
        "deletable": true,
        "editable": true
      },
      "source": [
        "Best seat in the house =&gt; Non-striker's end!\n--------------------------------------------\nCompare this plot with the earlier one, it clearly shows without significant contribution from the other end you cant accumulate runs unless you are CH GAYLE of course\n"
      ]
    },
    {
      "cell_type": "code",
      "execution_count": 1,
      "metadata": {
        "collapsed": false,
        "deletable": true,
        "editable": true
      },
      "outputs": [],
      "source": [
        " deliveries %>% group_by(non_striker) %>% \n",
        "    summarise(Runs= sum(total_runs)) %>% top_n(n=10,wt= Runs) %>% ggplot(aes(reorder(non_striker,-Runs),Runs,fill=non_striker)) + geom_bar(stat=\"identity\")+ xlab(\"Players\") +\n",
        "    theme(axis.text.x = element_text(angle = 75, hjust = 1)) + guides(fill=F) + ggtitle(\"Best seat in the house- Non-striker's end!\") \n"
      ]
    },
    {
      "cell_type": "markdown",
      "metadata": {
        "deletable": true,
        "editable": true
      },
      "source": [
        "Top Bowlers\n-----------\n"
      ]
    },
    {
      "cell_type": "code",
      "execution_count": 1,
      "metadata": {
        "collapsed": false,
        "deletable": true,
        "editable": true
      },
      "outputs": [],
      "source": [
        "df<-deliveries %>% group_by(bowler) %>% filter(player_dismissed!=\"\") %>% summarise(wickets= length(player_dismissed)) %>% top_n(n=10,wt=wickets) \n",
        "  df %>% ggplot(aes(reorder(bowler,-wickets),wickets,fill=bowler))+geom_bar(stat = \"identity\") + ylab(\"Wickets\")+\n",
        "  theme(axis.text.x = element_text(angle = 90, hjust = 1))+ xlab(\"Player\")+ ggtitle(\"Top Bowlers\")+ guides(fill=F)\n"
      ]
    },
    {
      "cell_type": "markdown",
      "metadata": {
        "deletable": true,
        "editable": true
      },
      "source": [
        "Total runs scored in each delivery of the over\n----------------------------------------------\n"
      ]
    },
    {
      "cell_type": "code",
      "execution_count": 1,
      "metadata": {
        "collapsed": false,
        "deletable": true,
        "editable": true
      },
      "outputs": [],
      "source": [
        "df <- deliveries %>% group_by(ball) %>% summarise(Runs = sum(total_runs)) %>% filter(ball<7) \n",
        "  print(df)\n",
        "  df %>% ggplot(aes(ball,Runs,fill=ball)) +geom_bar(stat = \"identity\")+scale_x_continuous(breaks = c(1,2,3,4,5,6))+ \n",
        "  guides(fill=F) +xlab(\"Ball\") + ylab(\"Total runs scored\") + ggtitle(\"Total runs scored in each delivery of the over\")\n"
      ]
    },
    {
      "cell_type": "markdown",
      "metadata": {
        "deletable": true,
        "editable": true
      },
      "source": [
        "Average number of runs scored in each delivery of the over\n----------------------------------------------------------\n"
      ]
    },
    {
      "cell_type": "code",
      "execution_count": 1,
      "metadata": {
        "collapsed": false,
        "deletable": true,
        "editable": true
      },
      "outputs": [],
      "source": [
        "df<-deliveries %>% group_by(ball) %>% summarise(Runs = mean(total_runs)) %>% filter(ball<7)\n",
        "  print(df)\n",
        "  df %>% ggplot(aes(ball,Runs,fill=ball)) +geom_bar(stat = \"identity\")+scale_x_continuous(breaks = c(1,2,3,4,5,6))+ \n",
        "  guides(fill=F) +xlab(\"Ball\") + ylab(\"Average runs scored\") + ggtitle(\"Average number of runs scored in each delivery of the over\")\n"
      ]
    },
    {
      "cell_type": "markdown",
      "metadata": {
        "deletable": true,
        "editable": true
      },
      "source": [
        "Total number of runs scored in each over of the innings\n-------------------------------------------------------\n"
      ]
    },
    {
      "cell_type": "code",
      "execution_count": 1,
      "metadata": {
        "collapsed": false,
        "deletable": true,
        "editable": true
      },
      "outputs": [],
      "source": [
        "df <- deliveries %>% group_by(over) %>% filter(is_super_over==0) %>% summarise(Runs= sum(total_runs))\n",
        "  print(df)\n",
        "  df %>% ggplot(aes(over,Runs,fill=over))+geom_bar(stat = \"identity\")+scale_x_continuous(breaks = 1:20)+ \n",
        "   guides(fill=F) +xlab(\"Over\") + ylab(\"Total runs scored\") + ggtitle(\"Total number of runs scored in each over of the innings\")\n",
        "  \n"
      ]
    },
    {
      "cell_type": "markdown",
      "metadata": {
        "deletable": true,
        "editable": true
      },
      "source": [
        "Average number of runs scored in each over of the innings\n---------------------------------------------------------\n"
      ]
    },
    {
      "cell_type": "code",
      "execution_count": 1,
      "metadata": {
        "collapsed": false,
        "deletable": true,
        "editable": true
      },
      "outputs": [],
      "source": [
        "df <- deliveries %>% group_by(over) %>% filter(is_super_over==0) %>% summarise(Runs= mean(total_runs)*6)\n",
        "  print(df)\n",
        "  df %>% ggplot(aes(over,Runs,fill=over))+geom_bar(stat = \"identity\")+scale_x_continuous(breaks = 1:20)+ \n",
        "  guides(fill=F) +xlab(\"Over\") + ylab(\"Total runs scored\") + ggtitle(\"Average number of runs scored in each over of the innings\")\n"
      ]
    },
    {
      "cell_type": "markdown",
      "metadata": {
        "deletable": true,
        "editable": true
      },
      "source": [
        "Total number of wickets in each over of the innings\n---------------------------------------------------\n"
      ]
    },
    {
      "cell_type": "code",
      "execution_count": 1,
      "metadata": {
        "collapsed": false,
        "deletable": true,
        "editable": true
      },
      "outputs": [],
      "source": [
        " deliveries %>% group_by(over) %>% filter(is_super_over==0) %>% summarise(Wickets= length(player_dismissed)) %>% \n",
        "    ggplot(aes(over,Wickets,fill=over))+geom_bar(stat = \"identity\") +scale_x_continuous(breaks = 1:20)+ \n",
        "     guides(fill=F) +xlab(\"Over\") + ylab(\"Total wickets taken\") + ggtitle(\"Total number of wickets in each over of the innings\")\n",
        "  \n"
      ]
    },
    {
      "cell_type": "markdown",
      "metadata": {
        "deletable": true,
        "editable": true
      },
      "source": [
        "Batsmen with top strike rate\n----------------------------\n"
      ]
    },
    {
      "cell_type": "code",
      "execution_count": 1,
      "metadata": {
        "collapsed": false,
        "deletable": true,
        "editable": true
      },
      "outputs": [],
      "source": [
        "deliveries %>% group_by(batsman) %>% filter(length(total_runs)>500) %>% summarise(strike_rate= mean(batsman_runs)*100) %>% top_n(n=10,wt=strike_rate) %>%\n",
        "  ggplot(aes(reorder(batsman,-strike_rate),strike_rate,fill=batsman))+ geom_bar(stat=\"identity\")+ xlab(\"Batsman\") + ylab(\"Strike Rate\") +\n",
        "  ggtitle(\"Batsmen with top strike rate\",subtitle = \"Minimum 500 balls faced\")+\n",
        "    theme(axis.text.x = element_text(angle = 75, hjust = 1)) + guides(fill=F)\n"
      ]
    },
    {
      "cell_type": "markdown",
      "metadata": {
        "deletable": true,
        "editable": true
      },
      "source": [
        "Comparing the all time top run getters in IPL \n---------------------------------------------\n**(V Kohli, R Sharma, S Raina, G Gambhir)**\n"
      ]
    },
    {
      "cell_type": "markdown",
      "metadata": {
        "deletable": true,
        "editable": true
      },
      "source": [
        "**How useful have the runs scored been?**\n"
      ]
    },
    {
      "cell_type": "code",
      "execution_count": 1,
      "metadata": {
        "collapsed": false,
        "deletable": true,
        "editable": true
      },
      "outputs": [],
      "source": [
        "\n",
        "colnames(matches)[1]<- \"match_id\"\n",
        "deliveries %>% left_join(matches) %>% filter(batsman==\"V Kohli\"| batsman==\"SK Raina\" |batsman==\"RG Sharma\"|batsman==\"G Gambhir\") %>% filter(result==\"normal\") %>%\n",
        "     group_by(batsman,match_id,batting_team,winner) %>%  summarise(Runs=sum(batsman_runs)) %>% \n",
        "    ggplot(aes(match_id,Runs))+geom_line() + geom_smooth() + coord_cartesian(ylim = c(0, 120))+ xlab(\"Matches\") + facet_grid(batsman ~ ifelse(as.character(batting_team)==as.character(winner),\"Winning Cause\",\"Losing Cause\"))\n",
        "  \n"
      ]
    },
    {
      "cell_type": "markdown",
      "metadata": {
        "deletable": true,
        "editable": true
      },
      "source": [
        "**Against which bowlers have the top run-getters performed?**\n"
      ]
    },
    {
      "cell_type": "code",
      "execution_count": 1,
      "metadata": {
        "collapsed": false,
        "deletable": true,
        "editable": true
      },
      "outputs": [],
      "source": [
        "Kohli<- deliveries %>% group_by(batsman,bowler) %>% filter(batsman==\"V Kohli\") %>% summarise(runs=sum(batsman_runs)) %>% top_n(n=50,wt=runs)\n",
        "Rohit<- deliveries %>% group_by(batsman,bowler) %>% filter(batsman==\"RG Sharma\") %>% summarise(runs=sum(batsman_runs)) %>% top_n(n=50,wt=runs)\n",
        "Gambhir<- deliveries %>% group_by(batsman,bowler) %>% filter(batsman==\"G Gambhir\") %>% summarise(runs=sum(batsman_runs)) %>% top_n(n=50,wt=runs)\n",
        "Raina<- deliveries %>% group_by(batsman,bowler) %>% filter(batsman==\"SK Raina\") %>% summarise(runs=sum(batsman_runs)) %>% top_n(n=50,wt=runs)\n",
        "treemap(Kohli, #Your data frame object\n",
        "          index=c(\"batsman\",\"bowler\"),  #A list of your categorical variables\n",
        "          vSize = \"runs\",  #This is your quantitative variable\n",
        "          type=\"index\", #Type sets the organization and color scheme of your treemap\n",
        "          palette = brewer.pal(7,\"Reds\"),  #Select your color palette from the RColorBrewer presets or make your own.\n",
        "          fontsize.title = 12,\n",
        "          fontfamily.title = \"serif\",\n",
        "          fontfamily.labels = \"symbol\",\n",
        "          title = \"Runs by Virat Kohli against different bowlers\",\n",
        "          fontface.labels = \"bold\",\n",
        "          border.col=\"#FFFFFF\",\n",
        "          fontsize.legend = 0,bg.labels = \"black\",fontcolor.labels= \"#FFFFFF\",\n",
        "          aspRatio= 1.1\n",
        " )\n",
        "treemap(Rohit, #Your data frame object\n",
        "          index=c(\"batsman\",\"bowler\"),  #A list of your categorical variables\n",
        "          vSize = \"runs\",  #This is your quantitative variable\n",
        "          type=\"index\", #Type sets the organization and color scheme of your treemap\n",
        "          palette = brewer.pal(7,\"Blues\"),  #Select your color palette from the RColorBrewer presets or make your own.\n",
        "          fontsize.title = 12,\n",
        "          fontfamily.title = \"serif\",\n",
        "          fontfamily.labels = \"symbol\",\n",
        "          title = \"Runs by RG Sharma against different bowlers\",\n",
        "          fontface.labels = \"bold\",\n",
        "           border.col=\"#FFFFFF\",\n",
        "           fontsize.legend = 0,bg.labels = \"black\",fontcolor.labels= \"#FFFFFF\",\n",
        "          aspRatio= 1.1\n",
        " )\n",
        "treemap(Gambhir, #Your data frame object\n",
        "          index=c(\"batsman\",\"bowler\"),  #A list of your categorical variables\n",
        "          vSize = \"runs\",  #This is your quantitative variable\n",
        "          type=\"index\", #Type sets the organization and color scheme of your treemap\n",
        "          palette = brewer.pal(4,\"Purples\"),  #Select your color palette from the RColorBrewer presets or make your own.\n",
        "          fontsize.title = 12,\n",
        "          fontfamily.title = \"serif\",\n",
        "          fontfamily.labels = \"symbol\",\n",
        "          title = \"Runs by G Gambhir against different bowlers\",\n",
        "          fontface.labels = \"bold\",\n",
        "          border.col=\"#FFFFFF\",\n",
        "          fontsize.legend = 0,bg.labels = \"black\",fontcolor.labels= \"#FFFFFF\",\n",
        "          aspRatio= 1.1\n",
        " )\n",
        "treemap(Raina, #Your data frame object\n",
        "          index=c(\"batsman\",\"bowler\"),  #A list of your categorical variables\n",
        "          vSize = \"runs\",  #This is your quantitative variable\n",
        "          type=\"index\", #Type sets the organization and color scheme of your treemap\n",
        "          palette = brewer.pal(3,\"YlOrBr\"),  #Select your color palette from the RColorBrewer presets or make your own.\n",
        "          fontsize.title = 12,\n",
        "          fontfamily.title = \"serif\",\n",
        "          fontfamily.labels = \"symbol\",\n",
        "          title = \"Runs by SK Raina against different bowlers\",\n",
        "          fontface.labels = \"bold\",\n",
        "          border.col=\"#FFFFFF\",\n",
        "          fontsize.legend = 0,\n",
        "          bg.labels = \"black\",fontcolor.labels= \"#FFFFFF\",\n",
        "           aspRatio= 1.1\n",
        " )\n"
      ]
    },
    {
      "cell_type": "markdown",
      "metadata": {
        "deletable": true,
        "editable": true
      },
      "source": [
        "**Top run getters performance against different teams**\n"
      ]
    },
    {
      "cell_type": "code",
      "execution_count": 1,
      "metadata": {
        "collapsed": false,
        "deletable": true,
        "editable": true
      },
      "outputs": [],
      "source": [
        " df<-deliveries %>% filter(batsman==\"V Kohli\"| batsman==\"SK Raina\" |batsman==\"RG Sharma\"|batsman==\"G Gambhir\")  %>% \n",
        " group_by(batsman,bowling_team) %>% summarise(runs = sum(batsman_runs)) %>% filter(runs >100)\n",
        "  treemap(df, #Your data frame object\n",
        "          index=c(\"batsman\",\"bowling_team\"),  #A list of your categorical variables\n",
        "          vSize = \"runs\", \n",
        "          vColor = \"bowling_team\",\n",
        "          type=\"categorical\", #Type sets the organization and color scheme of your treemap\n",
        "          palette = brewer.pal(12,\"Set3\"),  #Select your color palette from the RColorBrewer presets or make your own.\n",
        "          fontsize.title = 15,\n",
        "          fontfamily.title = \"serif\",\n",
        "          fontfamily.labels = \"symbol\",\n",
        "          title = \"Runs against diff teams\",\n",
        "          aspRatio = 1,\n",
        "          border.col=\"#FFFFFF\",bg.labels = \"#FFFFFF\" ,fontcolor.labels= \"black\",fontsize.legend = 0\n",
        "  )\n"
      ]
    },
    {
      "cell_type": "markdown",
      "metadata": {
        "deletable": true,
        "editable": true
      },
      "source": [
        "**Batting with whom have our top run getters been successful?**\n"
      ]
    },
    {
      "cell_type": "code",
      "execution_count": 1,
      "metadata": {
        "collapsed": false,
        "deletable": true,
        "editable": true
      },
      "outputs": [],
      "source": [
        "df<-deliveries %>% filter(batsman==\"V Kohli\"| batsman==\"SK Raina\" |batsman==\"RG Sharma\"|batsman==\"G Gambhir\")  %>% \n",
        "    group_by(batsman,non_striker) %>% summarise(runs = sum(batsman_runs)) %>% filter(runs >100)\n",
        "  treemap(df, #Your data frame object\n",
        "          index=c(\"batsman\",\"non_striker\"),  #A list of your categorical variables\n",
        "          vSize = \"runs\", \n",
        "          vColor = \"batsman\",\n",
        "          type=\"categorical\", #Type sets the organization and color scheme of your treemap\n",
        "          palette = brewer.pal(6,\"Set1\"),  #Select your color palette from the RColorBrewer presets or make your own.\n",
        "          fontsize.title = 15,\n",
        "          fontfamily.title = \"serif\",\n",
        "          fontfamily.labels = \"italic\",\n",
        "          title = \"Runs with different players at the other end \",\n",
        "          aspRatio = 1,\n",
        "          border.col=\"#FFFFFF\",bg.labels = \"black\" ,fontcolor.labels= \"#FFFFFF\",fontsize.legend = 0\n",
        "  )\n"
      ]
    },
    {
      "cell_type": "markdown",
      "metadata": {
        "deletable": true,
        "editable": true
      },
      "source": [
        "**Type of Dismissals**\n"
      ]
    },
    {
      "cell_type": "code",
      "execution_count": 1,
      "metadata": {
        "collapsed": false,
        "deletable": true,
        "editable": true
      },
      "outputs": [],
      "source": [
        " df<-deliveries %>% \n",
        "    filter(player_dismissed==\"V Kohli\"| player_dismissed==\"SK Raina\" |player_dismissed==\"RG Sharma\"|player_dismissed==\"G Gambhir\") %>%\n",
        "    group_by(player_dismissed,dismissal_kind) %>% summarise(type= length(dismissal_kind))\n",
        "  \n",
        "  treemap(df, #Your data frame object\n",
        "          index=c(\"player_dismissed\",\"dismissal_kind\"),  #A list of your categorical variables\n",
        "          vSize = \"type\", \n",
        "          vColor = \"dismissal_kind\",\n",
        "          type=\"categorical\", #Type sets the organization and color scheme of your treemap\n",
        "          palette = brewer.pal(6,\"Set2\"),  #Select your color palette from the RColorBrewer presets or make your own.\n",
        "          fontsize.title = 15,\n",
        "          fontfamily.title = \"serif\",\n",
        "          fontfamily.labels = \"italic\",\n",
        "          title = \"Type of Dismissals \",\n",
        "          aspRatio = 1,\n",
        "          border.col=\"#FFFFFF\",bg.labels = \"black\" ,fontcolor.labels= \"#FFFFFF\",fontsize.legend = 0\n",
        "  )\n"
      ]
    },
    {
      "cell_type": "markdown",
      "metadata": {
        "deletable": true,
        "editable": true
      },
      "source": [
        "**Strike rate in different stages of the game**\n"
      ]
    },
    {
      "cell_type": "code",
      "execution_count": 1,
      "metadata": {
        "collapsed": false,
        "deletable": true,
        "editable": true
      },
      "outputs": [],
      "source": [
        "deliveries %>% \n",
        "    filter(batsman==\"V Kohli\"| batsman==\"SK Raina\" |batsman==\"RG Sharma\"|batsman==\"G Gambhir\") %>% \n",
        "    group_by(batsman,over) %>% summarise(strike= mean(batsman_runs)*100) %>%  \n",
        "    ggplot(aes(over,strike, col=batsman)) + geom_line(size=2) + ylab(\"Strike Rate\") + \n",
        "    ggtitle(\"Strike rate in different stages of the game \") + scale_x_continuous(breaks = 1:20)\n"
      ]
    },
    {
      "cell_type": "markdown",
      "metadata": {
        "deletable": true,
        "editable": true
      },
      "source": [
        "**Season wise comparison(Runs)**\n"
      ]
    },
    {
      "cell_type": "code",
      "execution_count": 1,
      "metadata": {
        "collapsed": false,
        "deletable": true,
        "editable": true
      },
      "outputs": [],
      "source": [
        "deliveries %>% left_join(matches) %>% \n",
        "  filter(batsman==\"V Kohli\"| batsman==\"SK Raina\" |batsman==\"RG Sharma\"|batsman==\"G Gambhir\") %>% \n",
        "  group_by(batsman,season) %>% summarise(runs = sum(batsman_runs)) %>%\n",
        "    ggplot(aes(season,runs, col=batsman)) +geom_line(size= 2) + ggtitle(\"Season wise comparision(Runs)\") +\n",
        "    scale_x_continuous(breaks = 2008:2016)\n",
        "    \n"
      ]
    },
    {
      "cell_type": "markdown",
      "metadata": {
        "deletable": true,
        "editable": true
      },
      "source": [
        "**Season wise comparison(Boundaries)**\n"
      ]
    },
    {
      "cell_type": "code",
      "execution_count": 1,
      "metadata": {
        "collapsed": false,
        "deletable": true,
        "editable": true
      },
      "outputs": [],
      "source": [
        " deliveries %>% left_join(matches) %>% filter(batsman==\"V Kohli\"| batsman==\"SK Raina\" |batsman==\"RG Sharma\"|batsman==\"G Gambhir\") %>% \n",
        "   filter(batsman_runs==4|batsman_runs==6) %>% group_by(batsman,season) %>% summarise(boundaries= length(batsman_runs)) %>%\n",
        "    ggplot(aes(season,boundaries, col=batsman)) +geom_line(size= 2) + ggtitle(\"Season wise comparision(Boundaries)\") +\n",
        "    scale_x_continuous(breaks = 2008:2016)\n"
      ]
    },
    {
      "cell_type": "markdown",
      "metadata": {
        "deletable": true,
        "editable": true
      },
      "source": [
        "**Distribution of Runs**\n"
      ]
    },
    {
      "cell_type": "code",
      "execution_count": 1,
      "metadata": {
        "collapsed": false,
        "deletable": true,
        "editable": true
      },
      "outputs": [],
      "source": [
        "deliveries %>% left_join(matches) %>% filter(batsman==\"V Kohli\"| batsman==\"SK Raina\" |batsman==\"RG Sharma\"|batsman==\"G Gambhir\") %>% \n",
        "  group_by(batsman,batsman_runs) %>% summarise(freq=length(batsman_runs)) %>% filter(batsman_runs != 5) %>%\n",
        "    ggplot(aes(batsman,freq,fill=as.factor(batsman_runs))) + \n",
        "    geom_bar(stat = \"identity\",position= \"dodge\") + coord_flip() + ylab(\"Frequency\") + xlab(\" Batsman\") +\n",
        "    labs(fill=\"Type of runs scored\")\n"
      ]
    },
    {
      "cell_type": "markdown",
      "metadata": {
        "deletable": true,
        "editable": true
      },
      "source": [
        "Innings Progression\n-------------------\n"
      ]
    },
    {
      "cell_type": "code",
      "execution_count": 1,
      "metadata": {
        "collapsed": false,
        "deletable": true,
        "editable": true
      },
      "outputs": [],
      "source": [
        " deliveries %>% filter(batsman==\"V Kohli\") %>%\n",
        "    group_by(match_id) %>% \n",
        "    mutate(cum_run= cumsum(batsman_runs),cum_ball=1:length(match_id)) %>%\n",
        "    ggplot(aes(cum_ball,cum_run,col= as.factor(batsman_runs))) + \n",
        "    geom_point()  + labs(col=\"Type of Runs\") + xlab(\"Balls\") + ylab(\"Runs\")+\n",
        "    ggtitle(\"Innings Progression- Virat Kohli\") +  coord_cartesian(ylim = c(0, 120)) \n",
        "\n",
        " deliveries %>% filter(batsman==\"G Gambhir\") %>%\n",
        "    group_by(match_id) %>% \n",
        "    mutate(cum_run= cumsum(batsman_runs),cum_ball=1:length(match_id)) %>%\n",
        "    ggplot(aes(cum_ball,cum_run,col= as.factor(batsman_runs))) + \n",
        "    geom_point()  + labs(col=\"Type of Runs\") + xlab(\"Balls\") + ylab(\"Runs\")+\n",
        "    ggtitle(\"Innings Progression- G Gambhir\")+  coord_cartesian(ylim = c(0, 120)) \n",
        " deliveries %>% filter(batsman==\"RG Sharma\") %>%\n",
        "    group_by(match_id) %>% \n",
        "    mutate(cum_run= cumsum(batsman_runs),cum_ball=1:length(match_id)) %>%\n",
        "    ggplot(aes(cum_ball,cum_run,col= as.factor(batsman_runs))) + \n",
        "    geom_point()  + labs(col=\"Type of Runs\") + xlab(\"Balls\") + ylab(\"Runs\")+\n",
        "    ggtitle(\"Innings Progression- RG Sharma\")+  coord_cartesian(ylim = c(0, 120)) \n",
        " deliveries %>% filter( batsman==\"SK Raina\" ) %>%\n",
        "    group_by(match_id) %>% \n",
        "    mutate(cum_run= cumsum(batsman_runs),cum_ball=1:length(match_id)) %>%\n",
        "    ggplot(aes(cum_ball,cum_run,col= as.factor(batsman_runs))) + \n",
        "    geom_point()  + labs(col=\"Type of Runs\") + xlab(\"Balls\") + ylab(\"Runs\")+\n",
        "    ggtitle(\"Innings Progression- SK Raina\")+  coord_cartesian(ylim = c(0, 120)) \n"
      ]
    },
    {
      "cell_type": "code",
      "execution_count": 1,
      "metadata": {
        "collapsed": false,
        "deletable": true,
        "editable": true
      },
      "outputs": [],
      "source": [
        "colnames(matches)[1]<- \"match_id\" \n",
        "deliveries %>% left_join(matches) %>% filter(batsman==\"V Kohli\"| batsman==\"SK Raina\" |batsman==\"RG Sharma\"|batsman==\"G Gambhir\") %>%\n",
        "    group_by(match_id) %>% \n",
        "   mutate(cum_run= cumsum(batsman_runs),cum_ball=1:length(match_id)) %>%\n",
        "    ggplot(aes(cum_ball,cum_run,col=ifelse(as.character(batting_team)==as.character(winner),\"Winning Cause\",\"Losing Cause\"))) + \n",
        "    geom_point() + facet_wrap(~batsman,ncol=2) + labs(col=\"Type of Runs\") + xlab(\"Balls\") + ylab(\"Runs\")+\n",
        "    ggtitle(\" Relating Innings Progression with Result of the match\")\n"
      ]
    },
    {
      "cell_type": "code",
      "execution_count": 1,
      "metadata": {
        "collapsed": false,
        "deletable": true,
        "editable": true
      },
      "outputs": [],
      "source": [
        " deliveries %>%  left_join(matches) %>% filter(batsman==\"V Kohli\"| batsman==\"SK Raina\" |batsman==\"RG Sharma\"|batsman==\"G Gambhir\") %>% \n",
        "    group_by(match_id) %>% \n",
        "    mutate(cum_run= cumsum(batsman_runs),cum_ball=1:length(match_id)) %>% filter(is_super_over==0) %>%\n",
        "    ggplot(aes(cum_ball,cum_run,col=as.factor(inning))) + geom_point()  + facet_wrap(~batsman,ncol=2) + labs(col=\"Innings\") + xlab(\"Balls\") + ylab(\"Runs\")+\n",
        "    ggtitle(\"Innings Progression in Different innings\")\n"
      ]
    },
    {
      "cell_type": "code",
      "execution_count": 1,
      "metadata": {
        "collapsed": false,
        "deletable": true,
        "editable": true
      },
      "outputs": [],
      "source": [
        " deliveries %>%filter(batsman==\"V Kohli\"| batsman==\"SK Raina\" |batsman==\"RG Sharma\"|batsman==\"G Gambhir\") %>% group_by(match_id) %>%\n",
        "    mutate(cum_run= cumsum(batsman_runs),cum_ball=1:length(match_id)) %>%\n",
        "    filter(player_dismissed==\"V Kohli\"|player_dismissed==\"SK Raina\" |player_dismissed==\"RG Sharma\"|player_dismissed==\"G Gambhir\") %>% \n",
        "    ggplot(aes(cum_ball,cum_run,col=batsman)) +geom_point() + xlab(\"Balls\") +ylab(\"Runs\")+ ggtitle(\"Runs scored vs balls faced in all the matches\")\n",
        "  \n",
        "  \n"
      ]
    },
    {
      "cell_type": "code",
      "execution_count": 1,
      "metadata": {
        "collapsed": false,
        "deletable": true,
        "editable": true
      },
      "outputs": [],
      "source": [
        "deliveries %>% filter(batsman==\"V Kohli\"| batsman==\"SK Raina\" |batsman==\"RG Sharma\"|batsman==\"G Gambhir\") %>%\n",
        "   group_by(match_id) %>% \n",
        "     mutate(cum_run= cumsum(batsman_runs),cum_ball=1:length(match_id)) %>%\n",
        "     ggplot(aes(cum_ball,cum_run,col=batsman)) + \n",
        "     geom_smooth() + geom_point(alpha=0.15) + xlab(\"Balls\") + ylab(\"Runs\")+\n",
        "     ggtitle(\" General Innings Progression \")\n"
      ]
    },
    {
      "cell_type": "markdown",
      "metadata": {
        "deletable": true,
        "editable": true
      },
      "source": [
        "Economy of top wicket takers visualised using a Radarchart\n----------------------------------------------------------\n"
      ]
    },
    {
      "cell_type": "code",
      "execution_count": 1,
      "metadata": {
        "collapsed": false,
        "deletable": true,
        "editable": true
      },
      "outputs": [],
      "source": [
        "library(radarchart)\n",
        "library(tidyr)\n",
        "top_wicket_takers<- deliveries %>% group_by(bowler) %>% \n",
        "    filter(player_dismissed!=\"\") %>% summarise(wickets= length(player_dismissed)) %>%\n",
        "    top_n(10,wt = wickets)\n",
        "df1<- deliveries %>% filter(bowler %in% as.character(top_wicket_takers$bowler)) %>%\n",
        "    group_by(bowler,batting_team) %>% summarise(economy= mean(total_runs)*6)\n",
        "\n",
        "df1<-df1 %>% spread(bowler,economy) \n",
        "chartJSRadar(df1,showToolTipLabel = TRUE,showLegend=0,main = \"Economy of top wicket takers\",polyAlpha =0.6,labelSize=10,responsive=0)\n",
        "\n",
        "  \n"
      ]
    },
    {
      "cell_type": "markdown",
      "metadata": {
        "deletable": true,
        "editable": true
      },
      "source": [
        "***\nWill keep updating this! Please do upvote if you like it :D\n-----------------------------------------------------------\n\n***\n"
      ]
    }
  ],
  "metadata": {
    "kernelspec": {
      "name": "ir",
      "display_name": "R",
      "language": "R"
    },
    "language_info": {
      "name": "R",
      "codemirror_mode": "r",
      "pygments_lexer": "r",
      "mimetype": "text/x-r-source",
      "file_extension": ".r"
    }
  },
  "nbformat": 4,
  "nbformat_minor": 2
}